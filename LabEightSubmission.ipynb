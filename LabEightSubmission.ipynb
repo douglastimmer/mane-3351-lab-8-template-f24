{
 "cells": [
  {
   "cell_type": "markdown",
   "id": "64271f23-206d-4b0d-af0a-b01f4c67325b",
   "metadata": {},
   "source": [
    "# MANE 3351\n",
    "## Lab Eight Assignment\n",
    "## Your Name"
   ]
  },
  {
   "cell_type": "code",
   "execution_count": 1,
   "id": "77e7f72c-f1fa-4268-8d39-d3c05fb052d4",
   "metadata": {},
   "outputs": [],
   "source": [
    "# cell 2 - define the function, create the data arrays and plot the data to find a starting bracket"
   ]
  },
  {
   "cell_type": "code",
   "execution_count": 2,
   "id": "c92aead5-548a-43f7-bc21-2c9575e5bd0b",
   "metadata": {},
   "outputs": [],
   "source": [
    "# cell 3 - Implement a bracketed root finding technique"
   ]
  },
  {
   "cell_type": "code",
   "execution_count": 3,
   "id": "738316a3-fd0f-49bd-a8a7-226d23ea0481",
   "metadata": {},
   "outputs": [],
   "source": [
    "# Cell 4 - Implement a non-bracketed root finding technique"
   ]
  }
 ],
 "metadata": {
  "kernelspec": {
   "display_name": "Python 3 (ipykernel)",
   "language": "python",
   "name": "python3"
  },
  "language_info": {
   "codemirror_mode": {
    "name": "ipython",
    "version": 3
   },
   "file_extension": ".py",
   "mimetype": "text/x-python",
   "name": "python",
   "nbconvert_exporter": "python",
   "pygments_lexer": "ipython3",
   "version": "3.12.4"
  }
 },
 "nbformat": 4,
 "nbformat_minor": 5
}
